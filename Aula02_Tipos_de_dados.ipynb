{
  "nbformat": 4,
  "nbformat_minor": 0,
  "metadata": {
    "colab": {
      "provenance": [],
      "authorship_tag": "ABX9TyP2Z9iWpDPLaW9jJ4xqyU50",
      "include_colab_link": true
    },
    "kernelspec": {
      "name": "python3",
      "display_name": "Python 3"
    },
    "language_info": {
      "name": "python"
    }
  },
  "cells": [
    {
      "cell_type": "markdown",
      "metadata": {
        "id": "view-in-github",
        "colab_type": "text"
      },
      "source": [
        "<a href=\"https://colab.research.google.com/github/rodolfoloverafatec/aulasLP1/blob/main/Aula02_Tipos_de_dados.ipynb\" target=\"_parent\"><img src=\"https://colab.research.google.com/assets/colab-badge.svg\" alt=\"Open In Colab\"/></a>"
      ]
    },
    {
      "cell_type": "markdown",
      "source": [
        "# **Fundamento da Linguagem Python**\n",
        "\n",
        "* Saber um pouco mais sobre a linguagem Python e como configurá-la no seu computador.\n",
        "* Entender o que são expressões aritméticas, expressões lógicas e operadores;\n",
        "* Compreender o que são variáveis e como usá-las;\n",
        "* Saber o que são strings e como usá-las."
      ],
      "metadata": {
        "id": "xs5LElAqdEHq"
      }
    },
    {
      "cell_type": "markdown",
      "source": [
        "## EXERCÍCIO 5 - Mais Variáveis e Impressão\n",
        "Concatenação de variáveis mais texto, uma forma de usar a saída de dados com variáveis;"
      ],
      "metadata": {
        "id": "nDj2AhYjlk8Y"
      }
    },
    {
      "cell_type": "code",
      "source": [
        "Name = 'Zed A. Shaw'\n",
        "Age = 35 #não é mentira\n",
        "Height = 74 # polegadas\n",
        "Weight = 180 # libras\n",
        "Eyes = \"Blue\"\n",
        "Teeth = 'White'\n",
        "Hair = 'Brown'\n",
        "\n",
        "#print(f\"Let's talk about {Name}.\")\n",
        "print(f\"He's {Height} inches tall.\")\n",
        "print(f\"He's {Weight} poudns heavy.\")\n",
        "print(\"Actually that's not too heavy.\")\n",
        "print(f\"He's got {Eyes} eyes and {Hair} hair.\")\n",
        "print(f\"His teeth are usually {Teeth} depending on the coffe.\")\n",
        "\n",
        "#essa linha é capciosa, tente escrever exatamente como esta\n",
        "total = Age + Height + Weight\n",
        "print(f\"If I add {Age}, {Height} and my {Weight} I get {total}.\")\n",
        "\n",
        "\n",
        "# novidades de comando neste exercício:\n",
        "# print(f\"texto {variavel}\")"
      ],
      "metadata": {
        "id": "31UPAeOulg7r",
        "colab": {
          "base_uri": "https://localhost:8080/",
          "height": 106
        },
        "outputId": "4dcdb2a0-8fca-4c89-8321-1dde6bf1f479"
      },
      "execution_count": null,
      "outputs": [
        {
          "output_type": "error",
          "ename": "SyntaxError",
          "evalue": "f-string: single '}' is not allowed (<ipython-input-5-e1db95330484>, line 13)",
          "traceback": [
            "\u001b[0;36m  File \u001b[0;32m\"<ipython-input-5-e1db95330484>\"\u001b[0;36m, line \u001b[0;32m13\u001b[0m\n\u001b[0;31m    print(f\"He's got Eyes} eyes and {Hair} hair.\")\u001b[0m\n\u001b[0m                                                 ^\u001b[0m\n\u001b[0;31mSyntaxError\u001b[0m\u001b[0;31m:\u001b[0m f-string: single '}' is not allowed\n"
          ]
        }
      ]
    },
    {
      "cell_type": "markdown",
      "source": [
        "### Novidades neste exercício\n",
        "\n",
        "\n",
        "1.   Comando print com formação para saída de texto\n",
        "```\n",
        "print(f\"texto a ser imprimido na tela\")\n",
        "```"
      ],
      "metadata": {
        "id": "_b_4JVNlfpO0"
      }
    },
    {
      "cell_type": "markdown",
      "source": [
        "### Erros que eu cometi neste exercício:\n",
        "\n",
        "1. Errei ao digitar o nome da variável corretamente\n",
        "2. File \"<ipython-input-1-9d9e5a2bdcee>\", line 9\n",
        "    print(f\"Let's talk about {Name}.)\n",
        "          ^\n",
        "SyntaxError: unterminated string literal (detected at line 9)\n",
        "\n"
      ],
      "metadata": {
        "id": "wNLS-EwvgM9L"
      }
    },
    {
      "cell_type": "markdown",
      "source": [
        "## EXERCÍCIO 6 - Strings e Texto\n",
        "Algumas variáveis, um pouco, complexas e um pouco de trabalho com Strings dentro de Strings;"
      ],
      "metadata": {
        "id": "nmap_TrFlnxD"
      }
    },
    {
      "cell_type": "code",
      "source": [
        "#atribuição de inteiro em variável\n",
        "type_of_people = 10\n",
        "#atribuição de string com variável embutida\n",
        "x = f\"There are {type_of_people} type of people.\"\n",
        "#atribuição de valor textual a uma variável\n",
        "binary = \"binary\"\n",
        "#atribuição de valor textual a uma variável\n",
        "do_not = \"don't\"\n",
        "#atribuição de string com variável embutida\n",
        "y = f\"Those who know {binary} and those who {do_not}.\"\n",
        "\n",
        "print(x) #imprime o valor da variável\n",
        "print(y) #imprime o valor da variável\n",
        "\n",
        "print(f\"I' said: {x}\") #imprime um texto com uma variável embutida\n",
        "print(f\"I also said: '{y}'\") #imprime um texto com uma variável embutida\n",
        "\n",
        "hilarious = False #criação de variável com valor booleano\n",
        "joke_evaluetion = \"Isn't that joke so funny?! {} {} {}\" ##criação de variável com texto e espaço para embutir uma variável sem defini-lá\n",
        "\n",
        "print(joke_evaluetion.format(hilarious,valor2,valor3)) #uma forma de imprimir a variável textual com uma variável embituda, que eu posso escolher\n",
        "\n",
        "w = \"This is left side of...\" #criação de variável com valor textual\n",
        "e = \"a string with a right side.\" #criação de variável com valor textual\n",
        "\n",
        "print(w + e) #concatena os valores textuais armazenado nas variáveis"
      ],
      "metadata": {
        "id": "oGHAjAyFlopd"
      },
      "execution_count": null,
      "outputs": []
    },
    {
      "cell_type": "markdown",
      "source": [
        "### Novidades neste exercício\n",
        "\n",
        "\n",
        "1.   Atribuição de variável juntando texto com variável\n",
        "```\n",
        "y = f\"texto a ser imprimido na tela {nomeDeVariavel}\"\n",
        "```"
      ],
      "metadata": {
        "id": "DlrfjErAQA2j"
      }
    },
    {
      "cell_type": "markdown",
      "source": [
        "### Erros que eu cometi neste exercício:\n",
        "\n",
        "1. Nenhum desta vez\n"
      ],
      "metadata": {
        "id": "Saf6ZsRgQA2k"
      }
    },
    {
      "cell_type": "markdown",
      "source": [
        "## EXERCÍCIO 7 - Mais Impressão\n",
        "Apenas para práticas a digitação e alguns conceitos sobre impressão de strings"
      ],
      "metadata": {
        "id": "st20UCOKl1SG"
      }
    },
    {
      "cell_type": "code",
      "source": [
        "print(\"Mary had a little lamb.\") # imprime um texto fixo\n",
        "print(\"Its fleece was white as {}.\".format('snow')) # imprime um texto com espaço para mudar algo\n",
        "print(\"And everywhere that Mary went.\") # imprime um texto fixo\n",
        "print(\".\" * 10) #what'd that do? imprime o ponto 10 vezes\n",
        "\n",
        "end1 = \"C\" #armazena dados textuais em variáveis\n",
        "end2 = \"h\"\n",
        "end3 = \"e\"\n",
        "end4 = \"e\"\n",
        "end5 = \"s\"\n",
        "end6 = \"e\"\n",
        "end7 = \"B\"\n",
        "end8 = \"u\"\n",
        "end9 = \"r\"\n",
        "end10 = \"g\"\n",
        "end11 = \"e\"\n",
        "end12 = \"r\"\n",
        "\n",
        "#Olhe aquela vírgula no fim. tente removê-la para ver o que acontece\n",
        "print(end1 + end2 + end3 + end4 + end5 + end6,+ end='') # concatena os valores das variáveis e o final permite que\n",
        "print(end7 + end8 + end9 + end10 + end11 + end12)      # imprimir sem quebra de linha"
      ],
      "metadata": {
        "id": "FQlBmarRl11P",
        "colab": {
          "base_uri": "https://localhost:8080/",
          "height": 106
        },
        "outputId": "6e4809fd-5b8f-4806-997d-b8eb1f0f7dbc"
      },
      "execution_count": null,
      "outputs": [
        {
          "output_type": "error",
          "ename": "SyntaxError",
          "evalue": "expression cannot contain assignment, perhaps you meant \"==\"? (<ipython-input-8-9fc10a8ceadb>, line 20)",
          "traceback": [
            "\u001b[0;36m  File \u001b[0;32m\"<ipython-input-8-9fc10a8ceadb>\"\u001b[0;36m, line \u001b[0;32m20\u001b[0m\n\u001b[0;31m    print(end1 + end2 + end3 + end4 + end5 + end6 + end='') # concatena os valores das variáveis e o final permite que\u001b[0m\n\u001b[0m          ^\u001b[0m\n\u001b[0;31mSyntaxError\u001b[0m\u001b[0;31m:\u001b[0m expression cannot contain assignment, perhaps you meant \"==\"?\n"
          ]
        }
      ]
    },
    {
      "cell_type": "markdown",
      "source": [
        "### Novidades neste exercício\n",
        "\n",
        "1.   Um script dentro do print que não entendi o que faz\n",
        "```\n",
        "print(\"texto a ser imprimido na tela {}\".format('um texto qualquer'))\n",
        "```\n",
        "2. Multiplicação de texto por número\n",
        "```\n",
        "print('algo' * [Numero])\n",
        "```\n",
        "\n",
        "3. No final do texto do print tem outro script esquisito\n",
        "```\n",
        "print(variaveis, variaveis, end='')\n",
        "```"
      ],
      "metadata": {
        "id": "2dj5IzbiQiMM"
      }
    },
    {
      "cell_type": "markdown",
      "source": [
        "### Erros que eu cometi neste exercício:\n",
        "\n",
        "1. Sem erros, estou ficando bom.\n"
      ],
      "metadata": {
        "id": "W77hOZDkQiMN"
      }
    },
    {
      "cell_type": "markdown",
      "source": [
        "## EXERCÍCIO 8 - Imprimindo, Imprimindo\n",
        "Formatação de strings de forma mais complexa"
      ],
      "metadata": {
        "id": "XX2tmNG-m0F_"
      }
    },
    {
      "cell_type": "code",
      "source": [
        "formatter = \"{} {} {} {}\"\n",
        "\n",
        "print(formatter.format(1, 2, 3, 4))\n",
        "print(formatter.format(\"one\", \"two\", \"three\", \"four\"))\n",
        "print(formatter.format(True, False, False, True))\n",
        "print(formatter.format(formatter, formatter, formatter, formatter))\n",
        "print(formatter. format(\n",
        "    \"Try you\",\n",
        "    \"Own text here\",\n",
        "    \"Maybe a poem\",\n",
        "    \"Or a song about fear\"\n",
        "))"
      ],
      "metadata": {
        "id": "hnHhSZ_Bm0S3"
      },
      "execution_count": null,
      "outputs": []
    },
    {
      "cell_type": "markdown",
      "source": [
        "### Novidades neste exercício\n",
        "\n",
        "1.   Uma variável que recebe um monte de chaves, que pode receber valores de variáveis ou texto para serem impressos.\n",
        "```\n",
        "nomeDeVariavel = '{} {}'\n",
        "print(nomeDeVariavel.format(valor1, valor2))\n",
        "```"
      ],
      "metadata": {
        "id": "vNHlV86MRjDA"
      }
    },
    {
      "cell_type": "markdown",
      "source": [
        "### Erros que eu cometi neste exercício:\n",
        "\n",
        "1. Sem erros, estou ficando bom.\n"
      ],
      "metadata": {
        "id": "TuLDfCDkRjDB"
      }
    },
    {
      "cell_type": "markdown",
      "source": [],
      "metadata": {
        "id": "P5NRKxbUgt4n"
      }
    }
  ]
}